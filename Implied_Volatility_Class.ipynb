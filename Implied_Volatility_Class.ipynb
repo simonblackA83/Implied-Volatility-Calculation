{
 "cells": [
  {
   "cell_type": "code",
   "execution_count": 8,
   "metadata": {},
   "outputs": [],
   "source": [
    "import numpy as np\n",
    "import pandas as pd\n",
    "import matplotlib.pyplot as plt\n",
    "from scipy.stats import norm"
   ]
  },
  {
   "cell_type": "code",
   "execution_count": 9,
   "metadata": {},
   "outputs": [],
   "source": [
    "#set up class to calculate options implied volatility\n",
    "class Implied:\n",
    "    \n",
    "    def __init__(self, S, K, T, r, option_market, option_type):\n",
    "        \n",
    "        self.S = S\n",
    "        self.K = K\n",
    "        self.T = T\n",
    "        self.r = r\n",
    "        self.option_market = option_market\n",
    "        self.option_type = option_type\n",
    "    \n",
    "    def funx(self,vol):\n",
    "        \n",
    "        if self.option_type == 'c':\n",
    "            d1 = (1/(vol*np.sqrt(self.T)))*(np.log(self.S/self.K) + (self.r*self.T) + ((self.T*vol**2)/2))\n",
    "            d2 = (1/(vol*np.sqrt(self.T)))*(np.log(self.S/self.K) + (self.r*self.T) - ((self.T*vol**2)/2))\n",
    "            fc = self.S*norm.cdf(d1) - (self.K*np.exp(-(self.r)*self.T)*norm.cdf(d2)) - self.option_market\n",
    "            return fc\n",
    "        \n",
    "        if self.option_type == 'p':\n",
    "            d1 = (1/(vol*np.sqrt(self.T)))*(np.log(self.S/K) + (self.r*self.T) + ((self.T*vol**2)/2))\n",
    "            d2 = (1/(vol*np.sqrt(self.T)))*(np.log(self.S/K) + (self.r*self.T) - ((self.T*vol**2)/2))\n",
    "            fc = -self.S*norm.cdf(-d1) + (self.K*np.exp(-(self.r)*self.T)*norm.cdf(-d2)) - self.option_market\n",
    "            return fc\n",
    "    \n",
    "        else:\n",
    "            \n",
    "            print('Define option_type as \"c\" or \"p\"')\n",
    "            \n",
    "        \n",
    "    def derivative_fx(self,vol):\n",
    "        d1 = (1/(vol*np.sqrt(self.T)))*(np.log(self.S/self.K) + (self.r*self.T) + ((self.T*vol**2)/2))\n",
    "        vega = self.S*np.sqrt(self.T)*(1/np.sqrt(2*np.pi))*np.exp(-0.5*d1**2)\n",
    "        return vega\n",
    "    \n",
    "    def pricing(self, implied_vol):\n",
    "        \n",
    "        if self.option_type == 'c':\n",
    "            d1 = (1/(implied_vol*np.sqrt(self.T)))*(np.log(self.S/self.K) + (self.r*self.T) + ((self.T*implied_vol**2)/2))\n",
    "            d2 = (1/(implied_vol*np.sqrt(self.T)))*(np.log(self.S/self.K) + (self.r*self.T) - ((self.T*implied_vol**2)/2))\n",
    "            fc = self.S*norm.cdf(d1) - (self.K*np.exp(-(self.r)*self.T)*norm.cdf(d2))\n",
    "            return fc\n",
    "        \n",
    "        if self.option_type == 'p':\n",
    "            d1 = (1/(implied_vol*np.sqrt(self.T)))*(np.log(self.S/K) + (self.r*self.T) + ((self.T*implied_vol**2)/2))\n",
    "            d2 = (1/(implied_vol*np.sqrt(self.T)))*(np.log(self.S/K) + (self.r*self.T) - ((self.T*implied_vol**2)/2))\n",
    "            fp = -self.S*norm.cdf(-d1) + (self.K*np.exp(-(self.r)*self.T)*norm.cdf(-d2))\n",
    "            return fp\n",
    "    \n",
    "    def drive_newton_raphson(self, accuracy, vol0):\n",
    "        \n",
    "        vol_imp = vol0 - self.funx(vol = vol0)/self.derivative_fx(vol = vol0)\n",
    "        approx = self.pricing(implied_vol = vol_imp)\n",
    "        error = abs(self.option_market - approx)\n",
    "        \n",
    "        while error > accuracy:\n",
    "            \n",
    "            vol_imp = vol_imp - self.funx(vol = vol_imp)/self.derivative_fx(vol = vol_imp)\n",
    "            approx = self.pricing(implied_vol = vol_imp)\n",
    "            error = abs(self.option_market - approx)\n",
    "        \n",
    "    \n",
    "        return vol_imp\n",
    "        \n",
    "        \n",
    "\n"
   ]
  },
  {
   "cell_type": "code",
   "execution_count": 10,
   "metadata": {},
   "outputs": [],
   "source": [
    "#option parameters for pricing method; C is the \"true\" value of the option:\n",
    "S0 = 36.12; K = 35; T = 7/52; r = 0.07; C = 2.15; vol0 = (2*np.sqrt(2*np.pi)*C)/S0\n"
   ]
  },
  {
   "cell_type": "code",
   "execution_count": 11,
   "metadata": {},
   "outputs": [
    {
     "data": {
      "text/plain": [
       "0.25155749576554653"
      ]
     },
     "execution_count": 11,
     "metadata": {},
     "output_type": "execute_result"
    }
   ],
   "source": [
    "#option type c -> call option\n",
    "Implied = Implied(S = S0, K = K, T = T, r = r, option_market = C, option_type = 'c')\n",
    "vol_imp = vol0 - Implied.funx(vol = vol0)/Implied.derivative_fx(vol = vol0)\n",
    "print('First Guess:', vol_imp)\n",
    "\n"
   ]
  },
  {
   "cell_type": "code",
   "execution_count": 12,
   "metadata": {},
   "outputs": [
    {
     "data": {
      "text/html": [
       "<div>\n",
       "<style scoped>\n",
       "    .dataframe tbody tr th:only-of-type {\n",
       "        vertical-align: middle;\n",
       "    }\n",
       "\n",
       "    .dataframe tbody tr th {\n",
       "        vertical-align: top;\n",
       "    }\n",
       "\n",
       "    .dataframe thead th {\n",
       "        text-align: right;\n",
       "    }\n",
       "</style>\n",
       "<table border=\"1\" class=\"dataframe\">\n",
       "  <thead>\n",
       "    <tr style=\"text-align: right;\">\n",
       "      <th></th>\n",
       "      <th>Price</th>\n",
       "      <th>Approximated_Price</th>\n",
       "      <th>Implied_Vol</th>\n",
       "      <th>error</th>\n",
       "    </tr>\n",
       "  </thead>\n",
       "  <tbody>\n",
       "    <tr>\n",
       "      <th>0</th>\n",
       "      <td>2.15</td>\n",
       "      <td>2.375969</td>\n",
       "      <td>0.298408</td>\n",
       "      <td>2.259689e-01</td>\n",
       "    </tr>\n",
       "    <tr>\n",
       "      <th>1</th>\n",
       "      <td>2.15</td>\n",
       "      <td>2.152864</td>\n",
       "      <td>0.251557</td>\n",
       "      <td>2.863601e-03</td>\n",
       "    </tr>\n",
       "    <tr>\n",
       "      <th>2</th>\n",
       "      <td>2.15</td>\n",
       "      <td>2.150001</td>\n",
       "      <td>0.250947</td>\n",
       "      <td>6.773273e-07</td>\n",
       "    </tr>\n",
       "    <tr>\n",
       "      <th>3</th>\n",
       "      <td>2.15</td>\n",
       "      <td>2.150000</td>\n",
       "      <td>0.250947</td>\n",
       "      <td>3.774758e-14</td>\n",
       "    </tr>\n",
       "  </tbody>\n",
       "</table>\n",
       "</div>"
      ],
      "text/plain": [
       "   Price  Approximated_Price  Implied_Vol         error\n",
       "0   2.15            2.375969     0.298408  2.259689e-01\n",
       "1   2.15            2.152864     0.251557  2.863601e-03\n",
       "2   2.15            2.150001     0.250947  6.773273e-07\n",
       "3   2.15            2.150000     0.250947  3.774758e-14"
      ]
     },
     "execution_count": 12,
     "metadata": {},
     "output_type": "execute_result"
    }
   ],
   "source": [
    "#Iterate until desired precision level is reached:\n",
    "\n",
    "level = .0000000001#Precission Decimals\n",
    "approx = Implied.pricing(implied_vol = vol_imp)\n",
    "error = abs(C - approx)\n",
    "\n",
    "arr = np.array([C,approx,vol_imp,error]); vals = len(arr)\n",
    "\n",
    "#iterate:\n",
    "while error > level:\n",
    "    \n",
    "    vol_imp = vol_imp - Implied.funx(vol = vol_imp)/Implied.derivative_fx(vol = vol_imp)\n",
    "    approx = Implied.pricing(implied_vol = vol_imp)\n",
    "    error = abs(C - approx)\n",
    "    add = np.array([C,approx,vol_imp,error])\n",
    "    arr = np.concatenate((arr,add))  \n",
    "        \n",
    "arr = np.reshape(arr, (int(len(arr)/vals), vals))  \n",
    "\n",
    "#insert starting guess\n",
    "add = np.array([C,Implied.pricing(implied_vol = vol0),vol0,abs(C - Implied.pricing(implied_vol = vol0))])\n",
    "add = np.reshape(add, (int(len(add)/vals), vals))\n",
    "arr = np.concatenate((add,arr))\n",
    "     \n",
    "results = pd.DataFrame(arr)\n",
    "names = ['Price','Approximated_Price','Implied_Vol','error']\n",
    "results.columns = names\n",
    "results"
   ]
  },
  {
   "cell_type": "code",
   "execution_count": null,
   "metadata": {},
   "outputs": [],
   "source": []
  }
 ],
 "metadata": {
  "kernelspec": {
   "display_name": "Python 3",
   "language": "python",
   "name": "python3"
  },
  "language_info": {
   "codemirror_mode": {
    "name": "ipython",
    "version": 3
   },
   "file_extension": ".py",
   "mimetype": "text/x-python",
   "name": "python",
   "nbconvert_exporter": "python",
   "pygments_lexer": "ipython3",
   "version": "3.7.4"
  }
 },
 "nbformat": 4,
 "nbformat_minor": 4
}
